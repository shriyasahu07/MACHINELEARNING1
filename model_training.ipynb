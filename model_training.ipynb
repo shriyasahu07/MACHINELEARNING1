{
 "cells": [
  {
   "cell_type": "code",
   "execution_count": 39,
   "id": "24602fe9",
   "metadata": {},
   "outputs": [
    {
     "name": "stdout",
     "output_type": "stream",
     "text": [
      "Requirement already satisfied: xgboost in c:\\users\\shriya\\appdata\\local\\programs\\python\\python312\\lib\\site-packages (3.0.2)\n",
      "Requirement already satisfied: numpy in c:\\users\\shriya\\appdata\\local\\programs\\python\\python312\\lib\\site-packages (from xgboost) (2.1.3)\n",
      "Requirement already satisfied: scipy in c:\\users\\shriya\\appdata\\local\\programs\\python\\python312\\lib\\site-packages (from xgboost) (1.15.3)\n",
      "Note: you may need to restart the kernel to use updated packages.\n"
     ]
    },
    {
     "name": "stderr",
     "output_type": "stream",
     "text": [
      "\n",
      "[notice] A new release of pip is available: 24.3.1 -> 25.1.1\n",
      "[notice] To update, run: python.exe -m pip install --upgrade pip\n"
     ]
    }
   ],
   "source": [
    "pip install xgboost"
   ]
  },
  {
   "cell_type": "code",
   "execution_count": 40,
   "id": "170e45e0",
   "metadata": {},
   "outputs": [],
   "source": [
    "import pandas as pd\n",
    "from sklearn.model_selection import train_test_split\n",
    "from sklearn.preprocessing import OneHotEncoder\n",
    "from sklearn.compose import ColumnTransformer\n",
    "from sklearn.pipeline import Pipeline\n",
    "from sklearn.ensemble import RandomForestRegressor,GradientBoostingRegressor\n",
    "from sklearn.linear_model import LinearRegression,Ridge,Lasso\n",
    "from sklearn.tree import DecisionTreeRegressor\n",
    "from xgboost import XGBRegressor\n",
    "from sklearn.svm import SVR\n",
    "from sklearn.neighbors import KNeighborsRegressor\n",
    "from sklearn.metrics import mean_squared_error,r2_score\n",
    "import joblib"
   ]
  },
  {
   "cell_type": "code",
   "execution_count": 41,
   "id": "6e47f83a",
   "metadata": {},
   "outputs": [],
   "source": [
    "df=pd.read_csv(r\"C:\\Users\\Shriya\\OneDrive\\Documents\\LAUNCHED\\Machine Learning Capstone Project\\1_data_preparation\\cleaned_expected_ctc.csv\")"
   ]
  },
  {
   "cell_type": "code",
   "execution_count": 42,
   "id": "0d8639b2",
   "metadata": {},
   "outputs": [],
   "source": [
    "X=df.drop([\"Expected_CTC\"],axis=1)\n",
    "y=df[\"Expected_CTC\"]"
   ]
  },
  {
   "cell_type": "code",
   "execution_count": 43,
   "id": "775978a0",
   "metadata": {},
   "outputs": [],
   "source": [
    "cat_cols=X.select_dtypes(include='object').columns.tolist()\n",
    "num_cols=X.select_dtypes(include=['int64','float64']).drop(\"Applicant_ID\",axis=1).columns.tolist()"
   ]
  },
  {
   "cell_type": "code",
   "execution_count": 44,
   "id": "d5ec5c12",
   "metadata": {},
   "outputs": [],
   "source": [
    "preprocessor=ColumnTransformer([(\"onehot\",OneHotEncoder(handle_unknown='ignore'),cat_cols)],remainder='passthrough')"
   ]
  },
  {
   "cell_type": "code",
   "execution_count": 45,
   "id": "bce8362a",
   "metadata": {},
   "outputs": [],
   "source": [
    "models = {\n",
    "    \"Linear Regression\": LinearRegression(),\n",
    "    \"Ridge Regression\": Ridge(),\n",
    "    \"Lasso Regression\": Lasso(),\n",
    "    \"Decision Tree\": DecisionTreeRegressor(random_state=42),\n",
    "    \"Random Forest\": RandomForestRegressor(random_state=42),\n",
    "    \"Gradient Boosting\": GradientBoostingRegressor(random_state=42),\n",
    "    \"XGBoost\": XGBRegressor(random_state=42, verbosity=0),\n",
    "    \"SVR\": SVR(),\n",
    "    \"KNN\": KNeighborsRegressor()\n",
    "}"
   ]
  },
  {
   "cell_type": "code",
   "execution_count": 46,
   "id": "8ae6d99b",
   "metadata": {},
   "outputs": [],
   "source": [
    "X_train,X_test,y_train,y_test=train_test_split(X,y,test_size=0.2,random_state=42)"
   ]
  },
  {
   "cell_type": "code",
   "execution_count": 47,
   "id": "affeb0bf",
   "metadata": {},
   "outputs": [],
   "source": [
    "best_model=None\n",
    "best_score=float('-inf')"
   ]
  },
  {
   "cell_type": "code",
   "execution_count": 48,
   "id": "b845f8aa",
   "metadata": {},
   "outputs": [
    {
     "name": "stdout",
     "output_type": "stream",
     "text": [
      "R2 Scores for each model:\n",
      "Linear Regression:R2 Score=0.975283\n",
      "Ridge Regression:R2 Score=0.973898\n"
     ]
    },
    {
     "name": "stderr",
     "output_type": "stream",
     "text": [
      "c:\\Users\\Shriya\\AppData\\Local\\Programs\\Python\\Python312\\Lib\\site-packages\\sklearn\\linear_model\\_coordinate_descent.py:656: ConvergenceWarning: Objective did not converge. You might want to increase the number of iterations. Duality gap: 86330394460292.89, tolerance: 2690382666349.956\n",
      "  model = cd_fast.sparse_enet_coordinate_descent(\n"
     ]
    },
    {
     "name": "stdout",
     "output_type": "stream",
     "text": [
      "Lasso Regression:R2 Score=0.993337\n",
      "Decision Tree:R2 Score=0.999226\n",
      "Random Forest:R2 Score=0.999366\n",
      "Gradient Boosting:R2 Score=0.998869\n",
      "XGBoost:R2 Score=0.999327\n",
      "SVR:R2 Score=0.005921\n",
      "KNN:R2 Score=0.981034\n"
     ]
    }
   ],
   "source": [
    "print(\"R2 Scores for each model:\")\n",
    "for name,model in models.items():\n",
    "    pipeline=Pipeline(steps=[('preprocessor',preprocessor),('regressor',model)])\n",
    "    pipeline.fit(X_train,y_train)\n",
    "    y_pred=pipeline.predict(X_test)\n",
    "    r2=r2_score(y_test,y_pred)\n",
    "    print(f\"{name}:R2 Score={r2:4f}\")\n",
    "    if r2>best_score:\n",
    "        best_score=r2\n",
    "        best_model=pipeline\n",
    "        best_model_name=name\n"
   ]
  },
  {
   "cell_type": "code",
   "execution_count": 55,
   "id": "67ffd46e",
   "metadata": {},
   "outputs": [
    {
     "name": "stdout",
     "output_type": "stream",
     "text": [
      "\n",
      " Best model 'Random Forest' saved as model.pkl\n"
     ]
    }
   ],
   "source": [
    "joblib.dump(best_model,r\"C:\\Users\\Shriya\\OneDrive\\Documents\\LAUNCHED\\Machine Learning Capstone Project\\3_flask_app\\model.pkl\")\n",
    "print(f\"\\n Best model '{best_model_name}' saved as model.pkl\")\n"
   ]
  },
  {
   "cell_type": "code",
   "execution_count": 57,
   "id": "cd1759c9",
   "metadata": {},
   "outputs": [
    {
     "name": "stdout",
     "output_type": "stream",
     "text": [
      " input_template.csv saved in 3_flask_app/\n"
     ]
    }
   ],
   "source": [
    "X.head(1).to_csv(r\"C:\\Users\\Shriya\\OneDrive\\Documents\\LAUNCHED\\Machine Learning Capstone Project\\3_flask_app\\input_template.csv\", index=False)\n",
    "print(\" input_template.csv saved in 3_flask_app/\")"
   ]
  }
 ],
 "metadata": {
  "kernelspec": {
   "display_name": "Python 3",
   "language": "python",
   "name": "python3"
  },
  "language_info": {
   "codemirror_mode": {
    "name": "ipython",
    "version": 3
   },
   "file_extension": ".py",
   "mimetype": "text/x-python",
   "name": "python",
   "nbconvert_exporter": "python",
   "pygments_lexer": "ipython3",
   "version": "3.12.4"
  }
 },
 "nbformat": 4,
 "nbformat_minor": 5
}
