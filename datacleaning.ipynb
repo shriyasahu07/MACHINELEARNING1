{
 "cells": [
  {
   "cell_type": "code",
   "execution_count": 4,
   "id": "829370a8",
   "metadata": {},
   "outputs": [],
   "source": [
    "import pandas as pd"
   ]
  },
  {
   "cell_type": "code",
   "execution_count": 5,
   "id": "5f9c9511",
   "metadata": {},
   "outputs": [],
   "source": [
    "df=pd.read_csv(r'C:\\Users\\Shriya\\OneDrive\\Documents\\LAUNCHED\\Machine Learning Capstone Project\\1_data_preparation\\expected_ctc.csv')"
   ]
  },
  {
   "cell_type": "code",
   "execution_count": 6,
   "metadata": {},
   "outputs": [],
   "source": [
    "columns_to_drop=['IDX','PHD_Specialization','University_PHD','Passing_Year_Of_PHD']\n",
    "df_cleaned=df.drop(columns=columns_to_drop)"
   ]
  },
  {
   "cell_type": "code",
   "execution_count": 7,
   "id": "f06ae5c2",
   "metadata": {},
   "outputs": [],
   "source": [
    "categorical_cols=df_cleaned.select_dtypes(include='object').columns\n",
    "for col in categorical_cols:\n",
    "    df_cleaned[col]=df_cleaned[col].fillna(df_cleaned[col].mode()[0])"
   ]
  },
  {
   "cell_type": "code",
   "execution_count": 8,
   "id": "5b1ce187",
   "metadata": {},
   "outputs": [],
   "source": [
    "numerical_cols=df_cleaned.select_dtypes(include=['int64','float64']).columns\n",
    "for col in numerical_cols:\n",
    "    df_cleaned[col]=df_cleaned[col].fillna(df_cleaned[col].median())"
   ]
  },
  {
   "cell_type": "code",
   "execution_count": 9,
   "id": "d21f74c4",
   "metadata": {},
   "outputs": [
    {
     "name": "stdout",
     "output_type": "stream",
     "text": [
      "Missing values after cleaning:\n",
      "Applicant_ID                         0\n",
      "Total_Experience                     0\n",
      "Total_Experience_in_field_applied    0\n",
      "Department                           0\n",
      "Role                                 0\n",
      "Industry                             0\n",
      "Organization                         0\n",
      "Designation                          0\n",
      "Education                            0\n",
      "Graduation_Specialization            0\n",
      "University_Grad                      0\n",
      "Passing_Year_Of_Graduation           0\n",
      "PG_Specialization                    0\n",
      "University_PG                        0\n",
      "Passing_Year_Of_PG                   0\n",
      "Curent_Location                      0\n",
      "Preferred_location                   0\n",
      "Current_CTC                          0\n",
      "Inhand_Offer                         0\n",
      "Last_Appraisal_Rating                0\n",
      "No_Of_Companies_worked               0\n",
      "Number_of_Publications               0\n",
      "Certifications                       0\n",
      "International_degree_any             0\n",
      "Expected_CTC                         0\n",
      "dtype: int64\n"
     ]
    }
   ],
   "source": [
    "print(\"Missing values after cleaning:\")\n",
    "print(df_cleaned.isnull().sum())"
   ]
  },
  {
   "cell_type": "code",
   "execution_count": 10,
   "id": "67452279",
   "metadata": {},
   "outputs": [
    {
     "name": "stdout",
     "output_type": "stream",
     "text": [
      "cleaned dataset saved as 'cleaned_expected_ctc.csv'\n"
     ]
    }
   ],
   "source": [
    "df_cleaned.to_csv(\"cleaned_expected_ctc.csv\",index=False)\n",
    "print(\"cleaned dataset saved as 'cleaned_expected_ctc.csv'\")"
   ]
  },
  {
   "cell_type": "code",
   "execution_count": 11,
   "id": "98664c2d",
   "metadata": {},
   "outputs": [
    {
     "name": "stdout",
     "output_type": "stream",
     "text": [
      "rows: 25000\n",
      "columns: 29\n"
     ]
    }
   ],
   "source": [
    "print(\"rows:\",df.shape[0])\n",
    "print(\"columns:\",df.shape[1])"
   ]
  },
  {
   "cell_type": "code",
   "execution_count": 12,
   "id": "e7517401",
   "metadata": {},
   "outputs": [
    {
     "name": "stdout",
     "output_type": "stream",
     "text": [
      "                IDX  Applicant_ID  Total_Experience  \\\n",
      "count  25000.000000  25000.000000      25000.000000   \n",
      "mean   12500.500000  34993.240080         12.493080   \n",
      "std     7217.022701  14390.271591          7.471398   \n",
      "min        1.000000  10000.000000          0.000000   \n",
      "25%     6250.750000  22563.750000          6.000000   \n",
      "50%    12500.500000  34974.500000         12.000000   \n",
      "75%    18750.250000  47419.000000         19.000000   \n",
      "max    25000.000000  60000.000000         25.000000   \n",
      "\n",
      "       Total_Experience_in_field_applied  Passing_Year_Of_Graduation  \\\n",
      "count                       25000.000000                18820.000000   \n",
      "mean                            6.258200                 2002.193624   \n",
      "std                             5.819513                    8.316640   \n",
      "min                             0.000000                 1986.000000   \n",
      "25%                             1.000000                 1996.000000   \n",
      "50%                             5.000000                 2002.000000   \n",
      "75%                            10.000000                 2009.000000   \n",
      "max                            25.000000                 2020.000000   \n",
      "\n",
      "       Passing_Year_Of_PG  Passing_Year_Of_PHD   Current_CTC  \\\n",
      "count        17308.000000         13119.000000  2.500000e+04   \n",
      "mean          2005.153571          2007.396372  1.760945e+06   \n",
      "std              9.022963             7.493601  9.202125e+05   \n",
      "min           1988.000000          1995.000000  0.000000e+00   \n",
      "25%           1997.000000          2001.000000  1.027312e+06   \n",
      "50%           2006.000000          2007.000000  1.802568e+06   \n",
      "75%           2012.000000          2014.000000  2.443883e+06   \n",
      "max           2023.000000          2020.000000  3.999693e+06   \n",
      "\n",
      "       No_Of_Companies_worked  Number_of_Publications  Certifications  \\\n",
      "count            25000.000000            25000.000000    25000.000000   \n",
      "mean                 3.482040                4.089040        0.773680   \n",
      "std                  1.690335                2.606612        1.199449   \n",
      "min                  0.000000                0.000000        0.000000   \n",
      "25%                  2.000000                2.000000        0.000000   \n",
      "50%                  3.000000                4.000000        0.000000   \n",
      "75%                  5.000000                6.000000        1.000000   \n",
      "max                  6.000000                8.000000        5.000000   \n",
      "\n",
      "       International_degree_any  Expected_CTC  \n",
      "count              25000.000000  2.500000e+04  \n",
      "mean                   0.081720  2.250155e+06  \n",
      "std                    0.273943  1.160480e+06  \n",
      "min                    0.000000  2.037440e+05  \n",
      "25%                    0.000000  1.306278e+06  \n",
      "50%                    0.000000  2.252136e+06  \n",
      "75%                    0.000000  3.051354e+06  \n",
      "max                    1.000000  5.599570e+06  \n"
     ]
    }
   ],
   "source": [
    "print(df.describe())"
   ]
  },
  {
   "cell_type": "code",
   "execution_count": 13,
   "id": "b26f31d8",
   "metadata": {},
   "outputs": [
    {
     "name": "stdout",
     "output_type": "stream",
     "text": [
      "   IDX  Applicant_ID  Total_Experience  Total_Experience_in_field_applied  \\\n",
      "0    1         22753                 0                                  0   \n",
      "1    2         51087                23                                 14   \n",
      "2    3         38413                21                                 12   \n",
      "3    4         11501                15                                  8   \n",
      "4    5         58941                10                                  5   \n",
      "\n",
      "       Department               Role   Industry Organization      Designation  \\\n",
      "0             NaN                NaN        NaN          NaN              NaN   \n",
      "1              HR         Consultant  Analytics            H               HR   \n",
      "2  Top Management         Consultant   Training            J              NaN   \n",
      "3         Banking  Financial Analyst   Aviation            F               HR   \n",
      "4           Sales    Project Manager  Insurance            E  Medical Officer   \n",
      "\n",
      "   Education  ... Curent_Location Preferred_location  Current_CTC  \\\n",
      "0         PG  ...        Guwahati               Pune            0   \n",
      "1  Doctorate  ...       Bangalore             Nagpur      2702664   \n",
      "2  Doctorate  ...       Ahmedabad             Jaipur      2236661   \n",
      "3  Doctorate  ...          Kanpur            Kolkata      2100510   \n",
      "4       Grad  ...       Ahmedabad          Ahmedabad      1931644   \n",
      "\n",
      "  Inhand_Offer Last_Appraisal_Rating  No_Of_Companies_worked  \\\n",
      "0            N                   NaN                       0   \n",
      "1            Y         Key_Performer                       2   \n",
      "2            Y         Key_Performer                       5   \n",
      "3            N                     C                       5   \n",
      "4            N                     C                       2   \n",
      "\n",
      "  Number_of_Publications Certifications  International_degree_any Expected_CTC  \n",
      "0                      0              0                         0       384551  \n",
      "1                      4              0                         0      3783729  \n",
      "2                      3              0                         0      3131325  \n",
      "3                      3              0                         0      2608833  \n",
      "4                      3              0                         0      2221390  \n",
      "\n",
      "[5 rows x 29 columns]\n"
     ]
    }
   ],
   "source": [
    "print(df.head())"
   ]
  }
 ],
 "metadata": {
  "kernelspec": {
   "display_name": "Python 3",
   "language": "python",
   "name": "python3"
  },
  "language_info": {
   "codemirror_mode": {
    "name": "ipython",
    "version": 3
   },
   "file_extension": ".py",
   "mimetype": "text/x-python",
   "name": "python",
   "nbconvert_exporter": "python",
   "pygments_lexer": "ipython3",
   "version": "3.12.4"
  }
 },
 "nbformat": 4,
 "nbformat_minor": 5
}
